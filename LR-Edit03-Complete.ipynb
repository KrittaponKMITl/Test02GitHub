{
 "cells": [
  {
   "cell_type": "code",
   "execution_count": null,
   "id": "e916a333-4eb3-4f04-ac2e-49acf8ac37f4",
   "metadata": {},
   "outputs": [],
   "source": [
    "import pandas as pd\n",
    "data = pd.read_csv(\"Data_TaiwanEconomic_1999_2009.csv\")"
   ]
  },
  {
   "cell_type": "code",
   "execution_count": 17,
   "id": "2494a0d9-016c-48fc-882f-674204a85a4c",
   "metadata": {},
   "outputs": [],
   "source": [
    "from sklearn.model_selection import train_test_split\n",
    "\n",
    "bank = data\n",
    "# training set\n",
    "X = bank.iloc[:, 1:].values\n",
    "y = bank.iloc[:, 0].values\n",
    "\n",
    "X_train, X_test, y_train, y_test = train_test_split(X, y, random_state=42)"
   ]
  },
  {
   "cell_type": "code",
   "execution_count": 19,
   "id": "ade26964-16a0-4423-9a14-1ee7fa93ce9a",
   "metadata": {},
   "outputs": [
    {
     "name": "stdout",
     "output_type": "stream",
     "text": [
      "\n",
      "Logistic Regression Model Results:\n",
      "Accuracy for Training Set: 0.9672\n",
      "Accuracy for Test Set: 0.9611\n",
      "\n",
      "Confusion Matrix for Training Set:\n",
      "╒═════════════════╤══════════════════════════╤═════════════════════════╕\n",
      "│                 │ Predicted Negative       │ Predicted Positive      │\n",
      "╞═════════════════╪══════════════════════════╪═════════════════════════╡\n",
      "│ Actual Negative │ True Negative (TN): 5272 │ False Positive (FP): 14 │\n",
      "├─────────────────┼──────────────────────────┼─────────────────────────┤\n",
      "│ Actual Positive │ False Negative (FN): 165 │ True Positive (TP): 4   │\n",
      "╘═════════════════╧══════════════════════════╧═════════════════════════╛\n",
      "\n",
      "Confusion Matrix for Test Set:\n",
      "╒═════════════════╤══════════════════════════╤════════════════════════╕\n",
      "│                 │ Predicted Negative       │ Predicted Positive     │\n",
      "╞═════════════════╪══════════════════════════╪════════════════════════╡\n",
      "│ Actual Negative │ True Negative (TN): 1311 │ False Positive (FP): 2 │\n",
      "├─────────────────┼──────────────────────────┼────────────────────────┤\n",
      "│ Actual Positive │ False Negative (FN): 51  │ True Positive (TP): 0  │\n",
      "╘═════════════════╧══════════════════════════╧════════════════════════╛\n"
     ]
    }
   ],
   "source": [
    "import numpy as np\n",
    "import pandas as pd\n",
    "from sklearn.model_selection import train_test_split\n",
    "from sklearn.linear_model import LogisticRegression\n",
    "from sklearn.metrics import confusion_matrix, accuracy_score\n",
    "from tabulate import tabulate\n",
    "from sklearn.datasets import load_breast_cancer\n",
    "\n",
    "# Load sample dataset (Breast Cancer dataset)\n",
    "##data = load_breast_cancer()\n",
    "# X = data.data\n",
    "# y = data.target  # Binary classification (0 or 1)\n",
    "\n",
    "#df = pd.read_csv(\"your_file.csv\")  # Load Taiwan Economic dataset\n",
    "#X = df.drop(columns=['target_column'])  # Replace with actual target column\n",
    "#y = df['target_column']  # Binary classification target\n",
    "\n",
    "#df = pd.read_csv(\"Data_TaiwanEconomic_1999_2009.csv\")\n",
    "#X = df.drop(columns=['target_column'])\n",
    "#y = df['target_column']\n",
    "\n",
    "# Split dataset into training (80%) and testing (20%) sets\n",
    "X_train, X_test, y_train, y_test = train_test_split(X, y, test_size=0.2, random_state=42)\n",
    "\n",
    "# Create and train Logistic Regression model\n",
    "logreg = LogisticRegression(max_iter=1000)  # Increase iterations to ensure convergence\n",
    "logreg.fit(X_train, y_train)\n",
    "\n",
    "# Make predictions\n",
    "y_train_pred = logreg.predict(X_train)\n",
    "y_test_pred = logreg.predict(X_test)\n",
    "\n",
    "# Compute confusion matrix for train and test sets\n",
    "conf_matrix_train = confusion_matrix(y_train, y_train_pred)\n",
    "conf_matrix_test = confusion_matrix(y_test, y_test_pred)\n",
    "\n",
    "# Extract TN, FP, FN, TP for both training and test sets\n",
    "TN_train, FP_train, FN_train, TP_train = conf_matrix_train.ravel()\n",
    "TN_test, FP_test, FN_test, TP_test = conf_matrix_test.ravel()\n",
    "\n",
    "# Accuracy scores\n",
    "accuracy_train = accuracy_score(y_train, y_train_pred)\n",
    "accuracy_test = accuracy_score(y_test, y_test_pred)\n",
    "\n",
    "# Define confusion matrix tables for printing\n",
    "table_train = [\n",
    "    [\"\", \"Predicted Negative\", \"Predicted Positive\"],\n",
    "    [\"Actual Negative\", f\"True Negative (TN): {TN_train}\", f\"False Positive (FP): {FP_train}\"],\n",
    "    [\"Actual Positive\", f\"False Negative (FN): {FN_train}\", f\"True Positive (TP): {TP_train}\"]\n",
    "]\n",
    "\n",
    "table_test = [\n",
    "    [\"\", \"Predicted Negative\", \"Predicted Positive\"],\n",
    "    [\"Actual Negative\", f\"True Negative (TN): {TN_test}\", f\"False Positive (FP): {FP_test}\"],\n",
    "    [\"Actual Positive\", f\"False Negative (FN): {FN_test}\", f\"True Positive (TP): {TP_test}\"]\n",
    "]\n",
    "\n",
    "# Print results\n",
    "print(\"\\nLogistic Regression Model Results:\")\n",
    "print(f\"Accuracy for Training Set: {accuracy_train:.4f}\")\n",
    "print(f\"Accuracy for Test Set: {accuracy_test:.4f}\\n\")\n",
    "\n",
    "print(\"Confusion Matrix for Training Set:\")\n",
    "print(tabulate(table_train, headers=\"firstrow\", tablefmt=\"fancy_grid\"))\n",
    "\n",
    "print(\"\\nConfusion Matrix for Test Set:\")\n",
    "print(tabulate(table_test, headers=\"firstrow\", tablefmt=\"fancy_grid\"))\n"
   ]
  },
  {
   "cell_type": "code",
   "execution_count": null,
   "id": "2a5aab86-5483-463e-b0e9-71a7156a51a9",
   "metadata": {},
   "outputs": [],
   "source": []
  }
 ],
 "metadata": {
  "kernelspec": {
   "display_name": "Python [conda env:base] *",
   "language": "python",
   "name": "conda-base-py"
  },
  "language_info": {
   "codemirror_mode": {
    "name": "ipython",
    "version": 3
   },
   "file_extension": ".py",
   "mimetype": "text/x-python",
   "name": "python",
   "nbconvert_exporter": "python",
   "pygments_lexer": "ipython3",
   "version": "3.12.2"
  }
 },
 "nbformat": 4,
 "nbformat_minor": 5
}
